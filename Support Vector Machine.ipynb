{
 "cells": [
  {
   "cell_type": "code",
   "execution_count": 2,
   "metadata": {},
   "outputs": [],
   "source": [
    "import numpy as np\n",
    "import cvxopt\n",
    "cvxopt.solvers.options['show_progress'] = False\n",
    "\n",
    "from sklearn import datasets\n",
    "from sklearn.model_selection import train_test_split\n",
    "from sklearn.preprocessing import normalize\n",
    "from sklearn.metrics import accuracy_score\n"
   ]
  },
  {
   "cell_type": "code",
   "execution_count": 3,
   "metadata": {},
   "outputs": [],
   "source": [
    "def linear_kernel(x1, x2):\n",
    "    return np.dot(x1, x2)\n",
    "\n",
    "def polynomial_kernel(x, y, p=3):\n",
    "    return (1 + np.dot(x, y)) ** p\n",
    "\n",
    "def gaussian_kernel(x, y, sigma=5.0):\n",
    "    return np.exp(-np.linalg.norm(x-y)**2 / (2 * (sigma ** 2)))"
   ]
  },
  {
   "cell_type": "code",
   "execution_count": 4,
   "metadata": {},
   "outputs": [],
   "source": [
    "class SVM(object):\n",
    "    def __init__(self, kernel=polynomial_kernel, C=None):\n",
    "        self.kernel = kernel\n",
    "        self.C = C \n",
    "        if self.C is not None: self.C = float(self.C)\n",
    "\n",
    "    def fit(self, X, y):\n",
    "        n_samples, n_features = X.shape\n",
    "\n",
    "        \n",
    "        kernel_matrix = np.zeros((n_samples, n_samples))\n",
    "        for i in range(n_samples):\n",
    "            for j in range(n_samples):\n",
    "                kernel_matrix[i,j] = self.kernel(X[i], X[j])\n",
    "\n",
    "        \n",
    "        P = cvxopt.matrix(np.outer(y,y) * kernel_matrix, tc='d')\n",
    "        q = cvxopt.matrix(np.ones(n_samples) * -1)\n",
    "        A = cvxopt.matrix(y, (1,n_samples), tc='d')\n",
    "        b = cvxopt.matrix(0, tc='d')\n",
    "\n",
    "        if self.C is None:\n",
    "            G = cvxopt.matrix(np.diag(np.ones(n_samples) * -1))\n",
    "            h = cvxopt.matrix(np.zeros(n_samples))\n",
    "        else:\n",
    "            G_max = np.diag(np.ones(n_samples) * -1)\n",
    "            G_min = np.identity(n_samples)\n",
    "            G = cvxopt.matrix(np.vstack((G_max, G_min)))\n",
    "            h_max = np.zeros(n_samples)\n",
    "            h_min = np.ones(n_samples) * self.C\n",
    "            h = cvxopt.matrix(np.hstack((h_max, h_min)))\n",
    "\n",
    "        \n",
    "        minimization = cvxopt.solvers.qp(P, q, G, h, A, b)\n",
    "        lagr_mult = np.ravel(minimization['x'])\n",
    "\n",
    "        \n",
    "        mask = lagr_mult > 1e-7\n",
    "        indices = np.arange(len(lagr_mult))[mask]\n",
    "        \n",
    "        self.lagr_multipliers = lagr_mult[mask]\n",
    "        \n",
    "        self.support_vectors = X[mask]\n",
    "        \n",
    "        self.support_vector_labels = y[mask]\n",
    "        self.intercept = 0\n",
    "        for i in range(len(self.lagr_multipliers)):\n",
    "            self.intercept += self.support_vector_labels[i]\n",
    "            self.intercept -= np.sum(self.lagr_multipliers[i] * self.support_vector_labels[i] * kernel_matrix[indices[i],mask])\n",
    "        self.intercept /= len(self.lagr_multipliers)\n",
    "\n",
    "        if self.kernel == linear_kernel:\n",
    "            self.weight = np.zeros(n_features)\n",
    "            for i in range(len(self.lagr_multipliers)):\n",
    "                self.weight += self.lagr_multipliers[i] * self.support_vector_labels[i] * self.support_vectors[i]\n",
    "        else:\n",
    "            self.weight = None\n",
    "\n",
    "    def project(self, X):\n",
    "        if self.weight is not None:\n",
    "            return np.dot(X, self.weight) + self.intercept\n",
    "        else:\n",
    "            y_predict = np.zeros(len(X))\n",
    "            for i in range(len(X)):\n",
    "                prediction = 0\n",
    "                for a, sv_y, sv in zip(self.lagr_multipliers, self.support_vector_labels, self.support_vectors):\n",
    "                    prediction += a * sv_y * self.kernel(X[i], sv)\n",
    "                y_predict[i] = prediction\n",
    "            return y_predict + self.intercept\n",
    "\n",
    "    def predict(self, X):\n",
    "        return np.sign(self.project(X))\n"
   ]
  },
  {
   "cell_type": "code",
   "execution_count": 6,
   "metadata": {},
   "outputs": [
    {
     "name": "stdout",
     "output_type": "stream",
     "text": [
      "Accuracy: 0.8181818181818182\n"
     ]
    }
   ],
   "source": [
    "if __name__ == \"__main__\":\n",
    "    data = datasets.load_iris()\n",
    "    X = normalize(data.data[data.target != 0])\n",
    "    y = data.target[data.target != 0]\n",
    "    y[y == 1] = -1\n",
    "    y[y == 2] = 1\n",
    "    X_train, X_test, y_train, y_test = train_test_split(X, y, test_size=0.33)\n",
    "    clf = SVM(kernel=polynomial_kernel)\n",
    "    clf.fit(X_train, y_train)\n",
    "    y_pred = clf.predict(X_test)\n",
    "    accuracy = accuracy_score(y_test, y_pred)\n",
    "    print(\"Accuracy:\", accuracy)"
   ]
  },
  {
   "cell_type": "code",
   "execution_count": null,
   "metadata": {},
   "outputs": [],
   "source": []
  }
 ],
 "metadata": {
  "kernelspec": {
   "display_name": "Python 3",
   "language": "python",
   "name": "python3"
  },
  "language_info": {
   "codemirror_mode": {
    "name": "ipython",
    "version": 3
   },
   "file_extension": ".py",
   "mimetype": "text/x-python",
   "name": "python",
   "nbconvert_exporter": "python",
   "pygments_lexer": "ipython3",
   "version": "3.7.6"
  }
 },
 "nbformat": 4,
 "nbformat_minor": 4
}
